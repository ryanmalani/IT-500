{
 "cells": [
  {
   "cell_type": "markdown",
   "id": "d97179e8",
   "metadata": {},
   "source": [
    "### For this lab, I decided to look further into the faker gem for Ruby\n",
    "\n",
    "I chose this gem because not only has it shown great potential and popularity in the ruby development community, but I also have experience with similar python packages/libraries that perform the same task.\n",
    "\n",
    "The purpose of this gem is to generate authentic feeling, but fake data for names, phone numbers, addresses, etc in order to populate your testing database quickly and with greater variety than a few hand-inputted records.\n",
    "\n",
    "However, since the gem is built off of the Perl Faker library, there are a lot more generator subcatebgory options than previously mentioned such as:\n",
    "\n",
    "blockchain, books, fantasy, travel, creature, games, japanese media, movies, music, quotes, sports, and tv shows.\n",
    "\n",
    "The source code can be found on github [here.](https://github.com/faker-ruby/faker)"
   ]
  },
  {
   "cell_type": "code",
   "execution_count": 2,
   "id": "9255030e",
   "metadata": {},
   "outputs": [
    {
     "data": {
      "text/plain": [
       "\"Rev. Shanon Armstrong\""
      ]
     },
     "execution_count": 2,
     "metadata": {},
     "output_type": "execute_result"
    }
   ],
   "source": [
    "require \"bundler/inline\"\n",
    "\n",
    "gemfile do\n",
    "  source \"https://rubygems.org\"\n",
    "  gem \"faker\"\n",
    "end\n",
    "\n",
    "Faker::Name.name  "
   ]
  },
  {
   "cell_type": "code",
   "execution_count": 6,
   "id": "8bd48069",
   "metadata": {},
   "outputs": [
    {
     "data": {
      "text/plain": [
       "\"Oklahoma City Thunder\""
      ]
     },
     "execution_count": 6,
     "metadata": {},
     "output_type": "execute_result"
    }
   ],
   "source": [
    "Faker::Sports::Basketball.team"
   ]
  },
  {
   "cell_type": "code",
   "execution_count": 7,
   "id": "074c9cbc",
   "metadata": {},
   "outputs": [
    {
     "data": {
      "text/plain": [
       "\"Neymar\""
      ]
     },
     "execution_count": 7,
     "metadata": {},
     "output_type": "execute_result"
    }
   ],
   "source": [
    "Faker::Sports::Football.player"
   ]
  },
  {
   "cell_type": "code",
   "execution_count": 8,
   "id": "b2b18b93",
   "metadata": {},
   "outputs": [
    {
     "data": {
      "text/plain": [
       "\"The Bodyguard\""
      ]
     },
     "execution_count": 8,
     "metadata": {},
     "output_type": "execute_result"
    }
   ],
   "source": [
    "Faker::Music.album"
   ]
  },
  {
   "cell_type": "code",
   "execution_count": 9,
   "id": "a9b1e25c",
   "metadata": {},
   "outputs": [
    {
     "data": {
      "text/plain": [
       "\"The fool doth think he is wise, but the wise man knows himself to be a fool.\""
      ]
     },
     "execution_count": 9,
     "metadata": {},
     "output_type": "execute_result"
    }
   ],
   "source": [
    "Faker::Quotes::Shakespeare.as_you_like_it_quote"
   ]
  }
 ],
 "metadata": {
  "kernelspec": {
   "display_name": "Ruby 3.2.1",
   "language": "ruby",
   "name": "ruby"
  },
  "language_info": {
   "file_extension": ".rb",
   "mimetype": "application/x-ruby",
   "name": "ruby",
   "version": "3.2.1"
  }
 },
 "nbformat": 4,
 "nbformat_minor": 5
}
