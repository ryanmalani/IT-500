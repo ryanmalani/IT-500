{
 "cells": [
  {
   "cell_type": "markdown",
   "id": "3721bd1e",
   "metadata": {},
   "source": [
    "### Complete the following: (you may code in an environment you like as long as you provide the code/proof of execution)\n",
    "\n",
    "1) Print \"Hello, World\"\n",
    "\n",
    "2) For the String \"Hello Marymount\" , find the index for the word Marymount\n",
    "\n",
    "3) Print your name 10 times using some loop structure or class property\n",
    "\n",
    "4) Print the string \" This is sentence number 1\" where 1 changes from 1 to 10\n",
    "\n",
    "### Bonus +10\n",
    "\n",
    "Write a program that picks a random number ( look at rand() function ). Ask the user to guess a number (gets). Tell the player if their guess was too high, low or correct. "
   ]
  },
  {
   "cell_type": "code",
   "execution_count": 1,
   "id": "a559b053",
   "metadata": {},
   "outputs": [
    {
     "name": "stdout",
     "output_type": "stream",
     "text": [
      "hello world"
     ]
    }
   ],
   "source": [
    "print \"hello world\""
   ]
  },
  {
   "cell_type": "code",
   "execution_count": 2,
   "id": "323ee392",
   "metadata": {},
   "outputs": [
    {
     "name": "stdout",
     "output_type": "stream",
     "text": [
      "6\n"
     ]
    }
   ],
   "source": [
    "str = \"Hello Marymount\"\n",
    "index = str.index(\"Marymount\")\n",
    "\n",
    "puts index"
   ]
  },
  {
   "cell_type": "code",
   "execution_count": 7,
   "id": "305e271f",
   "metadata": {},
   "outputs": [
    {
     "name": "stdout",
     "output_type": "stream",
     "text": [
      "Ryan Malani\n",
      "Ryan Malani\n",
      "Ryan Malani\n",
      "Ryan Malani\n",
      "Ryan Malani\n",
      "Ryan Malani\n",
      "Ryan Malani\n",
      "Ryan Malani\n",
      "Ryan Malani\n",
      "Ryan Malani\n"
     ]
    },
    {
     "data": {
      "text/plain": [
       "1..10"
      ]
     },
     "execution_count": 7,
     "metadata": {},
     "output_type": "execute_result"
    }
   ],
   "source": [
    "(1..10).each do |name|\n",
    "  puts \"Ryan Malani\"\n",
    "end"
   ]
  },
  {
   "cell_type": "code",
   "execution_count": 8,
   "id": "fec1767c",
   "metadata": {},
   "outputs": [
    {
     "name": "stdout",
     "output_type": "stream",
     "text": [
      "This is sentence number 1\n",
      "This is sentence number 2\n",
      "This is sentence number 3\n",
      "This is sentence number 4\n",
      "This is sentence number 5\n",
      "This is sentence number 6\n",
      "This is sentence number 7\n",
      "This is sentence number 8\n",
      "This is sentence number 9\n",
      "This is sentence number 10\n"
     ]
    },
    {
     "data": {
      "text/plain": [
       "1..10"
      ]
     },
     "execution_count": 8,
     "metadata": {},
     "output_type": "execute_result"
    }
   ],
   "source": [
    "(1..10).each do |counter|\n",
    "  puts \"This is sentence number #{counter}\"\n",
    "end"
   ]
  },
  {
   "cell_type": "code",
   "execution_count": 12,
   "id": "aadcbdc2",
   "metadata": {},
   "outputs": [
    {
     "name": "stdout",
     "output_type": "stream",
     "text": [
      "This is sentence number 1\n",
      "This is sentence number 10\n"
     ]
    }
   ],
   "source": [
    "# If the previous question was meant to be string manipulation:\n",
    "\n",
    "puts \"This is sentence number 1\"\n",
    "\n",
    "puts \"This is sentence number 1\" << \"0\""
   ]
  },
  {
   "cell_type": "code",
   "execution_count": 1,
   "id": "0de64541",
   "metadata": {},
   "outputs": [
    {
     "data": {
      "text/plain": [
       ":random_picker"
      ]
     },
     "execution_count": 1,
     "metadata": {},
     "output_type": "execute_result"
    }
   ],
   "source": [
    "def random_picker\n",
    "  random_int = rand(1..100)\n",
    "\n",
    "  puts \"Guess a number between 1 and 100:\"\n",
    "\n",
    "  loop do\n",
    "    # Prompt the user for input\n",
    "    puts \"Enter your guess:\"\n",
    "    # Get user input and convert it to an integer\n",
    "    guess = gets.to_i\n",
    "\n",
    "    # Check the user's guess\n",
    "    if guess < random_int\n",
    "      puts \"Guess was too low, try again:\"\n",
    "    elsif guess > random_int\n",
    "      puts \"Guess was too high, try again:\"\n",
    "    else\n",
    "      puts \"You are correct!\"\n",
    "      break\n",
    "    end\n",
    "  end\n",
    "end"
   ]
  },
  {
   "cell_type": "code",
   "execution_count": null,
   "id": "b4fb1a14",
   "metadata": {},
   "outputs": [],
   "source": []
  }
 ],
 "metadata": {
  "kernelspec": {
   "display_name": "Ruby 3.2.1",
   "language": "ruby",
   "name": "ruby"
  },
  "language_info": {
   "file_extension": ".rb",
   "mimetype": "application/x-ruby",
   "name": "ruby",
   "version": "3.2.1"
  }
 },
 "nbformat": 4,
 "nbformat_minor": 5
}
